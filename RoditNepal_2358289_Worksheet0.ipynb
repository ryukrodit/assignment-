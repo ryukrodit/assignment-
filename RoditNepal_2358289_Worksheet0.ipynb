{
  "nbformat": 4,
  "nbformat_minor": 0,
  "metadata": {
    "colab": {
      "provenance": [],
      "include_colab_link": true
    },
    "kernelspec": {
      "name": "python3",
      "display_name": "Python 3"
    },
    "language_info": {
      "name": "python"
    }
  },
  "cells": [
    {
      "cell_type": "markdown",
      "metadata": {
        "id": "view-in-github",
        "colab_type": "text"
      },
      "source": [
        "<a href=\"https://colab.research.google.com/github/ryukrodit/assignment-/blob/main/RoditNepal_2358289_Worksheet0.ipynb\" target=\"_parent\"><img src=\"https://colab.research.google.com/assets/colab-badge.svg\" alt=\"Open In Colab\"/></a>"
      ]
    },
    {
      "cell_type": "markdown",
      "source": [
        "# Task-1 Unit Conversion"
      ],
      "metadata": {
        "id": "8-CTWL4rzpP0"
      }
    },
    {
      "cell_type": "code",
      "execution_count": 1,
      "metadata": {
        "colab": {
          "base_uri": "https://localhost:8080/"
        },
        "id": "_Wc3B-ppzalq",
        "outputId": "fb06ff23-20cc-41d5-8433-80f41e86817a"
      },
      "outputs": [
        {
          "output_type": "stream",
          "name": "stdout",
          "text": [
            "Welcome to the Unit Converter!\n",
            "Available conversions:\n",
            "1. Length: meters to feet, feet to meters\n",
            "2. Weight: kilograms to pounds, pounds to kilograms\n",
            "3. Volume: liters to gallons, gallons to liters\n",
            "Choose the type of conversion (1, 2, or 3): 3\n",
            "Enter the value to be converted: liters\n",
            "Error: could not convert string to float: 'liters'\n"
          ]
        }
      ],
      "source": [
        "def convert_length(value, unit):\n",
        "    if unit == 'm_to_ft':\n",
        "        return value * 3.28084\n",
        "    elif unit == 'ft_to_m':\n",
        "        return value / 3.28084\n",
        "    else:\n",
        "        raise ValueError(\"Invalid unit for length conversion.\")\n",
        "\n",
        "def convert_weight(value, unit):\n",
        "    if unit == 'kg_to_lbs':\n",
        "        return value * 2.20462\n",
        "    elif unit == 'lbs_to_kg':\n",
        "        return value / 2.20462\n",
        "    else:\n",
        "        raise ValueError(\"Invalid unit for weight conversion.\")\n",
        "\n",
        "def convert_volume(value, unit):\n",
        "    if unit == 'L_to_gal':\n",
        "        return value * 0.264172\n",
        "    elif unit == 'gal_to_L':\n",
        "        return value / 0.264172\n",
        "    else:\n",
        "        raise ValueError(\"Invalid unit for volume conversion.\")\n",
        "\n",
        "def main():\n",
        "    print(\"Welcome to the Unit Converter!\")\n",
        "    print(\"Available conversions:\")\n",
        "    print(\"1. Length: meters to feet, feet to meters\")\n",
        "    print(\"2. Weight: kilograms to pounds, pounds to kilograms\")\n",
        "    print(\"3. Volume: liters to gallons, gallons to liters\")\n",
        "\n",
        "    try:\n",
        "        conversion_type = int(input(\"Choose the type of conversion (1, 2, or 3): \"))\n",
        "        value = float(input(\"Enter the value to be converted: \"))\n",
        "\n",
        "        if conversion_type == 1:\n",
        "            unit = input(\"Choose conversion (m_to_ft or ft_to_m): \")\n",
        "            result = convert_length(value, unit)\n",
        "            print(f\"Converted value: {result}\")\n",
        "        elif conversion_type == 2:\n",
        "            unit = input(\"Choose conversion (kg_to_lbs or lbs_to_kg): \")\n",
        "            result = convert_weight(value, unit)\n",
        "            print(f\"Converted value: {result}\")\n",
        "        elif conversion_type == 3:\n",
        "            unit = input(\"Choose conversion (L_to_gal or gal_to_L): \")\n",
        "            result = convert_volume(value, unit)\n",
        "            print(f\"Converted value: {result}\")\n",
        "        else:\n",
        "            print(\"Invalid conversion type selected.\")\n",
        "    except ValueError as e:\n",
        "        print(f\"Error: {e}\")\n",
        "\n",
        "main()"
      ]
    },
    {
      "cell_type": "markdown",
      "source": [
        "# Task-2 Math Operation on List of Numbers"
      ],
      "metadata": {
        "id": "rVa5pztD0Y2e"
      }
    },
    {
      "cell_type": "code",
      "source": [
        "def calculate_sum(numbers):\n",
        "    \"\"\"\n",
        "    Calculates the sum of a list of numbers.\n",
        "\n",
        "    Parameters:\n",
        "    numbers (list): A list of numbers.\n",
        "\n",
        "    Returns:\n",
        "    float: The sum of the numbers.\n",
        "    \"\"\"\n",
        "    return sum(numbers)\n",
        "\n",
        "def calculate_average(numbers):\n",
        "    \"\"\"\n",
        "    Calculates the average of a list of numbers.\n",
        "\n",
        "    Parameters:\n",
        "    numbers (list): A list of numbers.\n",
        "\n",
        "    Returns:\n",
        "    float: The average of the numbers.\n",
        "    \"\"\"\n",
        "    return sum(numbers) / len(numbers)\n",
        "\n",
        "def find_maximum(numbers):\n",
        "    \"\"\"\n",
        "    Finds the maximum value in a list of numbers.\n",
        "\n",
        "    Parameters:\n",
        "    numbers (list): A list of numbers.\n",
        "\n",
        "    Returns:\n",
        "    float: The maximum value.\n",
        "    \"\"\"\n",
        "    return max(numbers)\n",
        "\n",
        "def find_minimum(numbers):\n",
        "    \"\"\"\n",
        "    Finds the minimum value in a list of numbers.\n",
        "\n",
        "    Parameters:\n",
        "    numbers (list): A list of numbers.\n",
        "\n",
        "    Returns:\n",
        "    float: The minimum value.\n",
        "    \"\"\"\n",
        "    return min(numbers)\n",
        "\n",
        "def main():\n",
        "    print(\"Welcome to the Mathematical Operations Program!\")\n",
        "    print(\"Available operations:\")\n",
        "    print(\"1. Sum\")\n",
        "    print(\"2. Average\")\n",
        "    print(\"3. Maximum\")\n",
        "    print(\"4. Minimum\")\n",
        "\n",
        "    try:\n",
        "        operation = int(input(\"Choose the operation (1, 2, 3, or 4): \"))\n",
        "        numbers = list(map(float, input(\"Enter a list of numbers separated by spaces: \").split()))\n",
        "\n",
        "        if operation == 1:\n",
        "            result = calculate_sum(numbers)\n",
        "            print(f\"Sum: {result}\")\n",
        "        elif operation == 2:\n",
        "            result = calculate_average(numbers)\n",
        "            print(f\"Average: {result}\")\n",
        "        elif operation == 3:\n",
        "            result = find_maximum(numbers)\n",
        "            print(f\"Maximum: {result}\")\n",
        "        elif operation == 4:\n",
        "            result = find_minimum(numbers)\n",
        "            print(f\"Minimum: {result}\")\n",
        "        else:\n",
        "            print(\"Invalid operation selected.\")\n",
        "    except ValueError as e:\n",
        "        print(f\"Error: {e}\")\n",
        "    except ZeroDivisionError:\n",
        "        print(\"Error: Cannot calculate average of an empty list.\")\n",
        "\n",
        "main()"
      ],
      "metadata": {
        "colab": {
          "base_uri": "https://localhost:8080/"
        },
        "id": "rB4V4IEo0FhL",
        "outputId": "59dfac5f-0243-4733-9516-27cde2970e91"
      },
      "execution_count": 2,
      "outputs": [
        {
          "output_type": "stream",
          "name": "stdout",
          "text": [
            "Welcome to the Mathematical Operations Program!\n",
            "Available operations:\n",
            "1. Sum\n",
            "2. Average\n",
            "3. Maximum\n",
            "4. Minimum\n",
            "Choose the operation (1, 2, 3, or 4): 4\n",
            "Enter a list of numbers separated by spaces: 2\n",
            "Minimum: 2.0\n"
          ]
        }
      ]
    },
    {
      "cell_type": "markdown",
      "source": [
        "# Exercise on List Manipulation:"
      ],
      "metadata": {
        "id": "7uYcjGpB0_rE"
      }
    },
    {
      "cell_type": "code",
      "source": [
        "def extract_every_other(lst):\n",
        "    \"\"\"\n",
        "    Extracts every other element from a list, starting from the first element.\n",
        "\n",
        "    Parameters:\n",
        "    lst (list): The input list.\n",
        "\n",
        "    Returns:\n",
        "    list: A new list containing every other element.\n",
        "    \"\"\"\n",
        "    return lst[::2]\n",
        "\n",
        "extract_every_other([1, 2, 3, 4, 5, 6], )"
      ],
      "metadata": {
        "colab": {
          "base_uri": "https://localhost:8080/"
        },
        "id": "8ui-kMre0w3H",
        "outputId": "98b7cb6f-1621-43c0-f0c9-7911d2bc86a8"
      },
      "execution_count": 3,
      "outputs": [
        {
          "output_type": "execute_result",
          "data": {
            "text/plain": [
              "[1, 3, 5]"
            ]
          },
          "metadata": {},
          "execution_count": 3
        }
      ]
    },
    {
      "cell_type": "code",
      "source": [
        "def get_sublist(lst, start, end):\n",
        "    \"\"\"\n",
        "    Returns a sublist from a given list, starting from a specified index and ending at another specified index.\n",
        "\n",
        "    Parameters:\n",
        "    lst (list): The input list.\n",
        "    start (int): The starting index.\n",
        "    end (int): The ending index.\n",
        "\n",
        "    Returns:\n",
        "    list: The sublist from start to end (inclusive).\n",
        "    \"\"\"\n",
        "    return lst[start:end+1]\n",
        "\n",
        "get_sublist([1, 2, 3, 4, 5, 6],2,4)"
      ],
      "metadata": {
        "colab": {
          "base_uri": "https://localhost:8080/"
        },
        "id": "Z2uRdVIQ2JDt",
        "outputId": "93eded53-c4fe-48ec-9784-3b3fc95754f8"
      },
      "execution_count": 4,
      "outputs": [
        {
          "output_type": "execute_result",
          "data": {
            "text/plain": [
              "[3, 4, 5]"
            ]
          },
          "metadata": {},
          "execution_count": 4
        }
      ]
    },
    {
      "cell_type": "code",
      "source": [
        "def reverse_list(lst):\n",
        "    \"\"\"\n",
        "    Reverses a list using slicing.\n",
        "\n",
        "    Parameters:\n",
        "    lst (list): The input list.\n",
        "\n",
        "    Returns:\n",
        "    list: The reversed list.\n",
        "    \"\"\"\n",
        "    return lst[::-1]\n",
        "\n",
        "reverse_list([1, 2, 3, 4, 5])"
      ],
      "metadata": {
        "colab": {
          "base_uri": "https://localhost:8080/"
        },
        "id": "QiySrYeF2Ut7",
        "outputId": "87f46748-0327-45a7-f294-82f8b26ffdb6"
      },
      "execution_count": 5,
      "outputs": [
        {
          "output_type": "execute_result",
          "data": {
            "text/plain": [
              "[5, 4, 3, 2, 1]"
            ]
          },
          "metadata": {},
          "execution_count": 5
        }
      ]
    },
    {
      "cell_type": "code",
      "source": [
        "def remove_first_last(lst):\n",
        "    \"\"\"\n",
        "    Removes the first and last elements of a list and returns the resulting sublist.\n",
        "\n",
        "    Parameters:\n",
        "    lst (list): The input list.\n",
        "\n",
        "    Returns:\n",
        "    list: The sublist without the first and last elements.\n",
        "    \"\"\"\n",
        "    return lst[1:-1]\n",
        "\n",
        "remove_first_last([1, 2, 3, 4, 5])"
      ],
      "metadata": {
        "colab": {
          "base_uri": "https://localhost:8080/"
        },
        "id": "9zxHVjqa2YDp",
        "outputId": "779d0f83-35ee-4c64-b09e-614455719823"
      },
      "execution_count": 6,
      "outputs": [
        {
          "output_type": "execute_result",
          "data": {
            "text/plain": [
              "[2, 3, 4]"
            ]
          },
          "metadata": {},
          "execution_count": 6
        }
      ]
    },
    {
      "cell_type": "code",
      "source": [
        "def get_first_n(lst, n):\n",
        "    \"\"\"\n",
        "    Extracts the first n elements from a list.\n",
        "\n",
        "    Parameters:\n",
        "    lst (list): The input list.\n",
        "    n (int): The number of elements to extract.\n",
        "\n",
        "    Returns:\n",
        "    list: The first n elements of the list.\n",
        "    \"\"\"\n",
        "    return lst[:n]\n",
        "\n",
        "get_first_n([1, 2, 3, 4, 5],3)"
      ],
      "metadata": {
        "colab": {
          "base_uri": "https://localhost:8080/"
        },
        "id": "tddLLYqz2cac",
        "outputId": "136cae64-b744-4651-8fdc-d7c89593e6e4"
      },
      "execution_count": 7,
      "outputs": [
        {
          "output_type": "execute_result",
          "data": {
            "text/plain": [
              "[1, 2, 3]"
            ]
          },
          "metadata": {},
          "execution_count": 7
        }
      ]
    },
    {
      "cell_type": "code",
      "source": [
        "def get_last_n(lst, n):\n",
        "    \"\"\"\n",
        "    Extracts the last n elements of a list using slicing.\n",
        "\n",
        "    Parameters:\n",
        "    lst (list): The input list.\n",
        "    n (int): The number of elements to extract.\n",
        "\n",
        "    Returns:\n",
        "    list: The last n elements of the list.\n",
        "    \"\"\"\n",
        "    return lst[-n:]\n",
        "\n",
        "get_last_n([1, 2, 3, 4, 5],2)"
      ],
      "metadata": {
        "colab": {
          "base_uri": "https://localhost:8080/"
        },
        "id": "9N2hNWsT2ft1",
        "outputId": "89d35a53-e42b-4e6d-d38b-2fa7072e199b"
      },
      "execution_count": 8,
      "outputs": [
        {
          "output_type": "execute_result",
          "data": {
            "text/plain": [
              "[4, 5]"
            ]
          },
          "metadata": {},
          "execution_count": 8
        }
      ]
    },
    {
      "cell_type": "code",
      "source": [
        "def reverse_skip(lst):\n",
        "    \"\"\"\n",
        "    Extracts a list of elements in reverse order starting from the second-to-last element and skipping one element in between.\n",
        "\n",
        "    Parameters:\n",
        "    lst (list): The input list.\n",
        "\n",
        "    Returns:\n",
        "    list: A new list containing every second element starting from the second-to-last, moving backward.\n",
        "    \"\"\"\n",
        "    return lst[-2::-2]\n",
        "\n",
        "reverse_skip([1, 2, 3, 4, 5, 6])"
      ],
      "metadata": {
        "colab": {
          "base_uri": "https://localhost:8080/"
        },
        "id": "GmeQtSq12jSe",
        "outputId": "5ee14fc6-93f8-458d-c61c-7501fb2b9482"
      },
      "execution_count": 9,
      "outputs": [
        {
          "output_type": "execute_result",
          "data": {
            "text/plain": [
              "[5, 3, 1]"
            ]
          },
          "metadata": {},
          "execution_count": 9
        }
      ]
    },
    {
      "cell_type": "markdown",
      "source": [
        "# Exercise on Nested List"
      ],
      "metadata": {
        "id": "GROi91612nHW"
      }
    },
    {
      "cell_type": "code",
      "source": [
        "def flatten(lst):\n",
        "    \"\"\"\n",
        "    Flattens a nested list into a single list.\n",
        "\n",
        "    Parameters:\n",
        "    lst (list): The nested list.\n",
        "\n",
        "    Returns:\n",
        "    list: A flattened version of the list.\n",
        "    \"\"\"\n",
        "    flat_list = []\n",
        "    for item in lst:\n",
        "        if isinstance(item, list):\n",
        "            flat_list.extend(flatten(item))\n",
        "        else:\n",
        "            flat_list.append(item)\n",
        "    return flat_list\n",
        "\n",
        "flatten([[1, 2], [3, [4, 5]], 6])"
      ],
      "metadata": {
        "colab": {
          "base_uri": "https://localhost:8080/"
        },
        "id": "eqvXZ28E3t1H",
        "outputId": "30a586f5-e65e-490e-cb0c-b244d52cada4"
      },
      "execution_count": 10,
      "outputs": [
        {
          "output_type": "execute_result",
          "data": {
            "text/plain": [
              "[1, 2, 3, 4, 5, 6]"
            ]
          },
          "metadata": {},
          "execution_count": 10
        }
      ]
    },
    {
      "cell_type": "code",
      "source": [
        "def access_nested_element(lst, indices):\n",
        "    \"\"\"\n",
        "    Extracts a specific element from a nested list given its indices.\n",
        "\n",
        "    Parameters:\n",
        "    lst (list): The nested list.\n",
        "    indices (list): A list of indices.\n",
        "\n",
        "    Returns:\n",
        "    any: The element at the specified position.\n",
        "    \"\"\"\n",
        "    for index in indices:\n",
        "        lst = lst[index]\n",
        "    return lst\n",
        "access_nested_element([[1, 2, 3], [4, 5, 6], [7, 8, 9]],[1,2])"
      ],
      "metadata": {
        "colab": {
          "base_uri": "https://localhost:8080/"
        },
        "id": "oga0Z3Oy2v3D",
        "outputId": "843201f2-2012-411f-c4b0-28cfa6e23fb1"
      },
      "execution_count": 11,
      "outputs": [
        {
          "output_type": "execute_result",
          "data": {
            "text/plain": [
              "6"
            ]
          },
          "metadata": {},
          "execution_count": 11
        }
      ]
    },
    {
      "cell_type": "code",
      "source": [
        "def sum_nested(lst):\n",
        "    \"\"\"\n",
        "    Calculates the sum of all the numbers in a nested list.\n",
        "\n",
        "    Parameters:\n",
        "    lst (list): The nested list.\n",
        "\n",
        "    Returns:\n",
        "    float: The sum of all elements.\n",
        "    \"\"\"\n",
        "    return sum(flatten(lst))\n",
        "\n",
        "sum_nested([[1, 2], [3, [4, 5]], 6])"
      ],
      "metadata": {
        "colab": {
          "base_uri": "https://localhost:8080/"
        },
        "id": "Jxb-978w2wap",
        "outputId": "3f704c17-010a-4061-9536-1713eeb954bb"
      },
      "execution_count": 12,
      "outputs": [
        {
          "output_type": "execute_result",
          "data": {
            "text/plain": [
              "21"
            ]
          },
          "metadata": {},
          "execution_count": 12
        }
      ]
    },
    {
      "cell_type": "code",
      "source": [
        "def remove_element(lst, elem):\n",
        "    \"\"\"\n",
        "    Removes all occurrences of a specific element from a nested list.\n",
        "\n",
        "    Parameters:\n",
        "    lst (list): The nested list.\n",
        "    elem (any): The element to remove.\n",
        "\n",
        "    Returns:\n",
        "    list: The modified list.\n",
        "    \"\"\"\n",
        "    return [remove_element(item, elem) if isinstance(item, list) else item for item in lst if item != elem]\n",
        "\n",
        "remove_element([[1, 2], [3, 2], [4, 5]],2)"
      ],
      "metadata": {
        "colab": {
          "base_uri": "https://localhost:8080/"
        },
        "id": "sGxcAov23iN5",
        "outputId": "c0cd0ea7-bf5a-42cf-8033-68ce44c617c0"
      },
      "execution_count": 13,
      "outputs": [
        {
          "output_type": "execute_result",
          "data": {
            "text/plain": [
              "[[1], [3], [4, 5]]"
            ]
          },
          "metadata": {},
          "execution_count": 13
        }
      ]
    },
    {
      "cell_type": "code",
      "source": [
        "def find_max(lst):\n",
        "    \"\"\"\n",
        "    Finds the maximum element in a nested list.\n",
        "\n",
        "    Parameters:\n",
        "    lst (list): The nested list.\n",
        "\n",
        "    Returns:\n",
        "    float: The maximum element.\n",
        "    \"\"\"\n",
        "    return max(flatten(lst))\n",
        "\n",
        "find_max([[1, 2], [3, [4, 5]], 6])"
      ],
      "metadata": {
        "colab": {
          "base_uri": "https://localhost:8080/"
        },
        "id": "XQ-eA6Sa31yB",
        "outputId": "8e36fb24-24ef-43c3-e2ab-a166fab282b0"
      },
      "execution_count": 14,
      "outputs": [
        {
          "output_type": "execute_result",
          "data": {
            "text/plain": [
              "6"
            ]
          },
          "metadata": {},
          "execution_count": 14
        }
      ]
    },
    {
      "cell_type": "code",
      "source": [
        "def count_occurrences(lst, elem):\n",
        "    \"\"\"\n",
        "    Counts how many times a specific element appears in a nested list.\n",
        "\n",
        "    Parameters:\n",
        "    lst (list): The nested list.\n",
        "    elem (any): The element to count.\n",
        "\n",
        "    Returns:\n",
        "    int: The number of occurrences.\n",
        "    \"\"\"\n",
        "    return flatten(lst).count(elem)\n",
        "count_occurrences([[1, 2], [2, 3], [2, 4]],2)"
      ],
      "metadata": {
        "colab": {
          "base_uri": "https://localhost:8080/"
        },
        "id": "1iHgRdT033ic",
        "outputId": "35a46327-90d0-44cb-c158-6a936b116fc3"
      },
      "execution_count": 15,
      "outputs": [
        {
          "output_type": "execute_result",
          "data": {
            "text/plain": [
              "3"
            ]
          },
          "metadata": {},
          "execution_count": 15
        }
      ]
    },
    {
      "cell_type": "code",
      "source": [
        "def deep_flatten(lst):\n",
        "    \"\"\"\n",
        "    Flattens a deeply nested list into a single list.\n",
        "\n",
        "    Parameters:\n",
        "    lst (list): The deeply nested list.\n",
        "\n",
        "    Returns:\n",
        "    list: A single flattened list.\n",
        "    \"\"\"\n",
        "    return flatten(lst)\n",
        "\n",
        "deep_flatten([[[1, 2], [3, 4]], [[5, 6], [7, 8]]])"
      ],
      "metadata": {
        "colab": {
          "base_uri": "https://localhost:8080/"
        },
        "id": "KGM7zF3N38Wm",
        "outputId": "be090c89-5cfc-4886-f87f-6d110cca25e7"
      },
      "execution_count": 16,
      "outputs": [
        {
          "output_type": "execute_result",
          "data": {
            "text/plain": [
              "[1, 2, 3, 4, 5, 6, 7, 8]"
            ]
          },
          "metadata": {},
          "execution_count": 16
        }
      ]
    },
    {
      "cell_type": "code",
      "source": [
        "def average_nested(lst):\n",
        "    \"\"\"\n",
        "    Calculates the average of all elements in a nested list.\n",
        "\n",
        "    Parameters:\n",
        "    lst (list): The nested list.\n",
        "\n",
        "    Returns:\n",
        "    float: The average of all elements.\n",
        "    \"\"\"\n",
        "    flat_list = flatten(lst)\n",
        "    return sum(flat_list) / len(flat_list)\n",
        "average_nested([[1, 2], [3, 4], [5, 6]])"
      ],
      "metadata": {
        "colab": {
          "base_uri": "https://localhost:8080/"
        },
        "id": "r0k0HcDA3_Fd",
        "outputId": "12c2e983-a7cd-4286-827a-cb680595e0b1"
      },
      "execution_count": 17,
      "outputs": [
        {
          "output_type": "execute_result",
          "data": {
            "text/plain": [
              "3.5"
            ]
          },
          "metadata": {},
          "execution_count": 17
        }
      ]
    },
    {
      "cell_type": "markdown",
      "source": [
        "# Basic Vector and Matrix Operation with Numpy."
      ],
      "metadata": {
        "id": "HOfXMOKX45Tr"
      }
    },
    {
      "cell_type": "markdown",
      "source": [
        "# Problem - 1: Array Creation:"
      ],
      "metadata": {
        "id": "CggzDmEJ46OB"
      }
    },
    {
      "cell_type": "code",
      "source": [
        "import numpy as np\n",
        "\n",
        "# 1. Initialize an empty array with size 2x2\n",
        "empty_array = np.empty((2, 2))\n",
        "print(\"Empty 2x2 Array:\\n\", empty_array)\n",
        "print(\"---------------\")\n",
        "\n",
        "# 2. Initialize an all ones array with size 4x2\n",
        "ones_array = np.ones((4, 2))\n",
        "print(\"All Ones 4x2 Array:\\n\", ones_array)\n",
        "print(\"---------------\")\n",
        "\n",
        "# 3. Return a new array of given shape and type, filled with fill value\n",
        "fill_value_array = np.full((3, 3), 5)  # Shape: 3x3, Fill Value: 5\n",
        "print(\"Array Filled with Value 5:\\n\", fill_value_array)\n",
        "print(\"---------------\")\n",
        "\n",
        "# 4. Return a new array of zeros with same shape and type as a given array\n",
        "given_array = np.array([[1, 2], [3, 4]])\n",
        "zeros_like_array = np.zeros_like(given_array)\n",
        "print(\"Zeros Array with Same Shape as Given Array:\\n\", zeros_like_array)\n",
        "print(\"---------------\")\n",
        "\n",
        "# 5. Return a new array of ones with same shape and type as a given array\n",
        "ones_like_array = np.ones_like(given_array)\n",
        "print(\"Ones Array with Same Shape as Given Array:\\n\", ones_like_array)\n",
        "print(\"---------------\")\n",
        "\n",
        "# 6. Convert a list to a NumPy array\n",
        "new_list = [1, 2, 3, 4]\n",
        "numpy_array = np.array(new_list)\n",
        "print(\"Converted NumPy Array from List:\\n\", numpy_array)"
      ],
      "metadata": {
        "colab": {
          "base_uri": "https://localhost:8080/"
        },
        "id": "6iLs6Tn549aq",
        "outputId": "972224d1-10d0-474e-90b4-1cd7f673e75a"
      },
      "execution_count": 18,
      "outputs": [
        {
          "output_type": "stream",
          "name": "stdout",
          "text": [
            "Empty 2x2 Array:\n",
            " [[1.8544447e-316 0.0000000e+000]\n",
            " [0.0000000e+000 0.0000000e+000]]\n",
            "---------------\n",
            "All Ones 4x2 Array:\n",
            " [[1. 1.]\n",
            " [1. 1.]\n",
            " [1. 1.]\n",
            " [1. 1.]]\n",
            "---------------\n",
            "Array Filled with Value 5:\n",
            " [[5 5 5]\n",
            " [5 5 5]\n",
            " [5 5 5]]\n",
            "---------------\n",
            "Zeros Array with Same Shape as Given Array:\n",
            " [[0 0]\n",
            " [0 0]]\n",
            "---------------\n",
            "Ones Array with Same Shape as Given Array:\n",
            " [[1 1]\n",
            " [1 1]]\n",
            "---------------\n",
            "Converted NumPy Array from List:\n",
            " [1 2 3 4]\n"
          ]
        }
      ]
    },
    {
      "cell_type": "markdown",
      "source": [
        "# Problem - 2: Array Manipulation: Numerical Ranges and Array indexing:"
      ],
      "metadata": {
        "id": "Uq2c7Pld5PNs"
      }
    },
    {
      "cell_type": "code",
      "source": [
        "# 1. Create an array with values ranging from 10 to 49\n",
        "range_array = np.arange(10, 50)\n",
        "print(\"Array with Values from 10 to 49:\\n\", range_array)\n",
        "print(\"---------------\")\n",
        "\n",
        "# 2. Create a 3x3 matrix with values ranging from 0 to 8\n",
        "matrix_3x3 = np.arange(9).reshape(3, 3)\n",
        "print(\"3x3 Matrix with Values 0 to 8:\\n\", matrix_3x3)\n",
        "print(\"---------------\")\n",
        "\n",
        "# 3. Create a 3x3 identity matrix\n",
        "identity_matrix = np.eye(3)\n",
        "print(\"3x3 Identity Matrix:\\n\", identity_matrix)\n",
        "print(\"---------------\")\n",
        "\n",
        "# 4. Create a random array of size 30 and find the mean\n",
        "random_array = np.random.random(30)\n",
        "mean_value = random_array.mean()\n",
        "print(\"Random Array of Size 30:\\n\", random_array)\n",
        "print(\"Mean of Random Array:\", mean_value)\n",
        "print(\"---------------\")\n",
        "\n",
        "# 5. Create a 10x10 array with random values and find the min and max\n",
        "random_10x10 = np.random.random((10, 10))\n",
        "min_value = random_10x10.min()\n",
        "max_value = random_10x10.max()\n",
        "print(\"10x10 Random Array:\\n\", random_10x10)\n",
        "print(\"Minimum Value:\", min_value)\n",
        "print(\"Maximum Value:\", max_value)\n",
        "print(\"---------------\")\n",
        "\n",
        "# 6. Create a zero array of size 10 and replace the 5th element with 1\n",
        "zero_array = np.zeros(10)\n",
        "zero_array[4] = 1  # Indexing starts from 0\n",
        "print(\"Zero Array with 5th Element Replaced:\\n\", zero_array)\n",
        "print(\"---------------\")\n",
        "\n",
        "# 7. Reverse an array\n",
        "arr = np.array([1, 2, 0, 0, 4, 0])\n",
        "reversed_arr = arr[::-1]\n",
        "print(\"Reversed Array:\\n\", reversed_arr)\n",
        "print(\"---------------\")\n",
        "\n",
        "# 8. Create a 2D array with 1 on the border and 0 inside\n",
        "border_array = np.ones((5, 5))\n",
        "border_array[1:-1, 1:-1] = 0\n",
        "print(\"2D Array with 1 on Border and 0 Inside:\\n\", border_array)\n",
        "print(\"---------------\")\n",
        "\n",
        "# 9. Create an 8x8 checkerboard pattern\n",
        "checkerboard = np.zeros((8, 8))\n",
        "checkerboard[1::2, ::2] = 1\n",
        "checkerboard[::2, 1::2] = 1\n",
        "print(\"8x8 Checkerboard Pattern:\\n\", checkerboard)"
      ],
      "metadata": {
        "colab": {
          "base_uri": "https://localhost:8080/"
        },
        "id": "7rzn4AIv5QTA",
        "outputId": "095bb110-5072-402f-f817-481c9a576c9b"
      },
      "execution_count": 19,
      "outputs": [
        {
          "output_type": "stream",
          "name": "stdout",
          "text": [
            "Array with Values from 10 to 49:\n",
            " [10 11 12 13 14 15 16 17 18 19 20 21 22 23 24 25 26 27 28 29 30 31 32 33\n",
            " 34 35 36 37 38 39 40 41 42 43 44 45 46 47 48 49]\n",
            "---------------\n",
            "3x3 Matrix with Values 0 to 8:\n",
            " [[0 1 2]\n",
            " [3 4 5]\n",
            " [6 7 8]]\n",
            "---------------\n",
            "3x3 Identity Matrix:\n",
            " [[1. 0. 0.]\n",
            " [0. 1. 0.]\n",
            " [0. 0. 1.]]\n",
            "---------------\n",
            "Random Array of Size 30:\n",
            " [0.38448938 0.43768637 0.92378263 0.94931147 0.77560277 0.24525666\n",
            " 0.00674651 0.67792495 0.45044995 0.28953639 0.82486153 0.44355754\n",
            " 0.83800254 0.21821171 0.56095343 0.76037206 0.47809656 0.2973201\n",
            " 0.0492256  0.16382319 0.09832909 0.68746291 0.30511466 0.37226725\n",
            " 0.44953252 0.49786218 0.16167459 0.14515501 0.89942276 0.50742085]\n",
            "Mean of Random Array: 0.4633151041676522\n",
            "---------------\n",
            "10x10 Random Array:\n",
            " [[4.92832189e-01 7.81140273e-01 8.04630845e-01 4.36914948e-01\n",
            "  5.96413438e-01 6.11090317e-01 4.51246480e-02 8.72590184e-01\n",
            "  5.61718050e-01 4.44246382e-02]\n",
            " [8.83240284e-02 6.51794485e-01 7.76798270e-01 3.01017549e-01\n",
            "  3.01213807e-01 5.76030083e-01 4.62388606e-01 2.45184316e-04\n",
            "  5.31170476e-01 3.56714103e-03]\n",
            " [7.50420723e-01 5.25017221e-01 1.40634833e-01 4.60491663e-01\n",
            "  5.13070303e-01 3.11270001e-02 3.95060883e-01 9.59927075e-01\n",
            "  6.27481098e-01 1.82393769e-01]\n",
            " [5.81253950e-01 3.33092092e-03 6.18912122e-01 6.97263745e-01\n",
            "  8.16717980e-01 5.92463126e-01 1.26192384e-01 6.03011173e-01\n",
            "  7.36888228e-01 2.64792779e-01]\n",
            " [7.94681889e-01 9.03618193e-01 7.27761275e-01 9.42555594e-01\n",
            "  5.08414856e-01 9.32866604e-01 5.19399868e-01 1.65338644e-01\n",
            "  8.47390298e-01 3.32358575e-02]\n",
            " [8.53234097e-01 4.30029910e-01 7.38559865e-02 3.56403925e-01\n",
            "  3.88289529e-01 6.18286157e-02 9.51104256e-01 9.95236392e-02\n",
            "  6.16685095e-01 4.04449314e-02]\n",
            " [6.11502163e-01 1.62708080e-02 6.42135699e-02 6.34241457e-01\n",
            "  4.56883155e-01 5.23796214e-01 6.76110360e-01 4.38902985e-01\n",
            "  6.44775109e-01 8.71927326e-04]\n",
            " [6.44725787e-01 1.81407604e-02 8.05391832e-01 5.80761459e-01\n",
            "  2.50621609e-01 7.34772297e-01 8.57982796e-01 4.87763523e-02\n",
            "  6.72243115e-02 9.31169660e-01]\n",
            " [1.16348604e-01 7.39793639e-01 3.09557445e-01 1.61497764e-01\n",
            "  9.77396334e-01 7.40369983e-01 3.10969750e-01 4.81078038e-01\n",
            "  9.33594806e-01 7.70608975e-01]\n",
            " [1.98014445e-01 1.94874888e-02 6.54824396e-01 5.51996999e-01\n",
            "  5.87665661e-01 9.69384548e-01 1.83566780e-01 7.74279158e-01\n",
            "  5.47715249e-01 3.21622739e-01]]\n",
            "Minimum Value: 0.0002451843158550737\n",
            "Maximum Value: 0.97739633422865\n",
            "---------------\n",
            "Zero Array with 5th Element Replaced:\n",
            " [0. 0. 0. 0. 1. 0. 0. 0. 0. 0.]\n",
            "---------------\n",
            "Reversed Array:\n",
            " [0 4 0 0 2 1]\n",
            "---------------\n",
            "2D Array with 1 on Border and 0 Inside:\n",
            " [[1. 1. 1. 1. 1.]\n",
            " [1. 0. 0. 0. 1.]\n",
            " [1. 0. 0. 0. 1.]\n",
            " [1. 0. 0. 0. 1.]\n",
            " [1. 1. 1. 1. 1.]]\n",
            "---------------\n",
            "8x8 Checkerboard Pattern:\n",
            " [[0. 1. 0. 1. 0. 1. 0. 1.]\n",
            " [1. 0. 1. 0. 1. 0. 1. 0.]\n",
            " [0. 1. 0. 1. 0. 1. 0. 1.]\n",
            " [1. 0. 1. 0. 1. 0. 1. 0.]\n",
            " [0. 1. 0. 1. 0. 1. 0. 1.]\n",
            " [1. 0. 1. 0. 1. 0. 1. 0.]\n",
            " [0. 1. 0. 1. 0. 1. 0. 1.]\n",
            " [1. 0. 1. 0. 1. 0. 1. 0.]]\n"
          ]
        }
      ]
    },
    {
      "cell_type": "markdown",
      "source": [
        "# Problem - 3: Array Operations:"
      ],
      "metadata": {
        "id": "-9y8Z94E5f0R"
      }
    },
    {
      "cell_type": "code",
      "source": [
        "# Given arrays\n",
        "x = np.array([[1, 2], [3, 5]])\n",
        "y = np.array([[5, 6], [7, 8]])\n",
        "v = np.array([9, 10])\n",
        "w = np.array([11, 12])\n",
        "\n",
        "# 1. Add the two arrays\n",
        "add_result = x + y\n",
        "print(\"Addition of x and y:\\n\", add_result)\n",
        "print(\"---------------\")\n",
        "\n",
        "# 2. Subtract the two arrays\n",
        "subtract_result = x - y\n",
        "print(\"Subtraction of x and y:\\n\", subtract_result)\n",
        "print(\"---------------\")\n",
        "\n",
        "# 3. Multiply the array with an integer\n",
        "multiply_result = x * 2\n",
        "print(\"Multiplication of x by 2:\\n\", multiply_result)\n",
        "print(\"---------------\")\n",
        "\n",
        "# 4. Find the square of each element\n",
        "square_result = np.square(x)\n",
        "print(\"Square of Each Element in x:\\n\", square_result)\n",
        "print(\"---------------\")\n",
        "\n",
        "# 5. Find the dot product\n",
        "dot_vw = np.dot(v, w)\n",
        "dot_xv = np.dot(x, v)\n",
        "dot_xy = np.dot(x, y)\n",
        "print(\"Dot Product of v and w:\", dot_vw)\n",
        "print(\"Dot Product of x and v:\", dot_xv)\n",
        "print(\"Dot Product of x and y:\\n\", dot_xy)\n",
        "print(\"---------------\")\n",
        "\n",
        "# 6. Concatenate x and y along rows, and v and w along columns\n",
        "concatenate_rows = np.concatenate((x, y), axis=0)\n",
        "concatenate_columns = np.vstack((v, w))\n",
        "print(\"Concatenate x and y along rows:\\n\", concatenate_rows)\n",
        "print(\"Concatenate v and w along columns:\\n\", concatenate_columns)\n",
        "print(\"---------------\")\n",
        "\n",
        "# 7. Concatenate x and v (will raise an error)\n",
        "try:\n",
        "    concatenate_xv = np.concatenate((x, v))\n",
        "except ValueError as e:\n",
        "    print(\"Error:\", e)\n",
        "    print(\"Explanation: Shapes of x (2x2) and v (2,) are not compatible for concatenation.\")"
      ],
      "metadata": {
        "colab": {
          "base_uri": "https://localhost:8080/"
        },
        "id": "7Kk1Pa0X5ghe",
        "outputId": "885b99b2-38c7-458b-f360-c77bf4696be5"
      },
      "execution_count": 20,
      "outputs": [
        {
          "output_type": "stream",
          "name": "stdout",
          "text": [
            "Addition of x and y:\n",
            " [[ 6  8]\n",
            " [10 13]]\n",
            "---------------\n",
            "Subtraction of x and y:\n",
            " [[-4 -4]\n",
            " [-4 -3]]\n",
            "---------------\n",
            "Multiplication of x by 2:\n",
            " [[ 2  4]\n",
            " [ 6 10]]\n",
            "---------------\n",
            "Square of Each Element in x:\n",
            " [[ 1  4]\n",
            " [ 9 25]]\n",
            "---------------\n",
            "Dot Product of v and w: 219\n",
            "Dot Product of x and v: [29 77]\n",
            "Dot Product of x and y:\n",
            " [[19 22]\n",
            " [50 58]]\n",
            "---------------\n",
            "Concatenate x and y along rows:\n",
            " [[1 2]\n",
            " [3 5]\n",
            " [5 6]\n",
            " [7 8]]\n",
            "Concatenate v and w along columns:\n",
            " [[ 9 10]\n",
            " [11 12]]\n",
            "---------------\n",
            "Error: all the input arrays must have same number of dimensions, but the array at index 0 has 2 dimension(s) and the array at index 1 has 1 dimension(s)\n",
            "Explanation: Shapes of x (2x2) and v (2,) are not compatible for concatenation.\n"
          ]
        }
      ]
    },
    {
      "cell_type": "markdown",
      "source": [
        "# Problem - 4: Matrix Operations:"
      ],
      "metadata": {
        "id": "a7WGIiQE5td6"
      }
    },
    {
      "cell_type": "code",
      "source": [
        "# Given arrays\n",
        "A = np.array([[3, 4], [7, 8]])\n",
        "B = np.array([[5, 3], [2, 1]])\n",
        "\n",
        "# 1. Prove A.A^-1 = I\n",
        "A_inv = np.linalg.inv(A)\n",
        "identity_check = np.dot(A, A_inv)\n",
        "print(\"A.A^-1:\\n\", identity_check)\n",
        "print(\"---------------\")\n",
        "\n",
        "# 2. Prove AB != BA\n",
        "AB = np.dot(A, B)\n",
        "BA = np.dot(B, A)\n",
        "print(\"AB:\\n\", AB)\n",
        "print(\"BA:\\n\", BA)\n",
        "print(\"Is AB != BA?\", not np.array_equal(AB, BA))\n",
        "print(\"---------------\")\n",
        "\n",
        "# 3. Prove (AB)^T = B^T A^T\n",
        "AB_transpose = AB.T\n",
        "B_transpose_A_transpose = np.dot(B.T, A.T)\n",
        "print(\"(AB)^T:\\n\", AB_transpose)\n",
        "print(\"B^T A^T:\\n\", B_transpose_A_transpose)\n",
        "print(\"Is (AB)^T == B^T A^T?\", np.array_equal(AB_transpose, B_transpose_A_transpose))\n",
        "print(\"---------------\")\n",
        "\n",
        "# Solve the system of linear equations\n",
        "# 2x - 3y + z = -1\n",
        "# x - y + 2z = -3\n",
        "# 3x + y - z = 9\n",
        "\n",
        "# Matrix form: AX = B\n",
        "A_eq = np.array([[2, -3, 1], [1, -1, 2], [3, 1, -1]])\n",
        "B_eq = np.array([-1, -3, 9])\n",
        "print(\"---------------\")\n",
        "\n",
        "# Solve using inverse method\n",
        "X = np.dot(np.linalg.inv(A_eq), B_eq)\n",
        "print(\"Solution using Inverse Method:\", X)\n",
        "print(\"---------------\")\n",
        "\n",
        "# Solve using np.linalg.solve\n",
        "X_solve = np.linalg.solve(A_eq, B_eq)\n",
        "print(\"Solution using np.linalg.solve:\", X_solve)"
      ],
      "metadata": {
        "colab": {
          "base_uri": "https://localhost:8080/"
        },
        "id": "T1smTCWZ5tPy",
        "outputId": "9fed1e5d-d8c8-4149-f18b-626c2dff12d5"
      },
      "execution_count": 21,
      "outputs": [
        {
          "output_type": "stream",
          "name": "stdout",
          "text": [
            "A.A^-1:\n",
            " [[1.00000000e+00 0.00000000e+00]\n",
            " [1.77635684e-15 1.00000000e+00]]\n",
            "---------------\n",
            "AB:\n",
            " [[23 13]\n",
            " [51 29]]\n",
            "BA:\n",
            " [[36 44]\n",
            " [13 16]]\n",
            "Is AB != BA? True\n",
            "---------------\n",
            "(AB)^T:\n",
            " [[23 51]\n",
            " [13 29]]\n",
            "B^T A^T:\n",
            " [[23 51]\n",
            " [13 29]]\n",
            "Is (AB)^T == B^T A^T? True\n",
            "---------------\n",
            "---------------\n",
            "Solution using Inverse Method: [ 2.  1. -2.]\n",
            "---------------\n",
            "Solution using np.linalg.solve: [ 2.  1. -2.]\n"
          ]
        }
      ]
    },
    {
      "cell_type": "markdown",
      "source": [
        "# Experiment: How Fast is Numpy?"
      ],
      "metadata": {
        "id": "3H_v52uH59RJ"
      }
    },
    {
      "cell_type": "code",
      "source": [
        "import time\n",
        "import numpy as np\n",
        "\n",
        "# Function to measure time taken for an operation\n",
        "def measure_time(func, *args):\n",
        "    start_time = time.time()\n",
        "    func(*args)\n",
        "    end_time = time.time()\n",
        "    return end_time - start_time\n",
        "\n",
        "# 1. Element-wise Addition\n",
        "def elementwise_addition_python(list1, list2):\n",
        "    return [a + b for a, b in zip(list1, list2)]\n",
        "\n",
        "def elementwise_addition_numpy(array1, array2):\n",
        "    return array1 + array2\n",
        "\n",
        "# 2. Element-wise Multiplication\n",
        "def elementwise_multiplication_python(list1, list2):\n",
        "    return [a * b for a, b in zip(list1, list2)]\n",
        "\n",
        "def elementwise_multiplication_numpy(array1, array2):\n",
        "    return array1 * array2\n",
        "\n",
        "# 3. Dot Product\n",
        "def dot_product_python(list1, list2):\n",
        "    return sum(a * b for a, b in zip(list1, list2))\n",
        "\n",
        "def dot_product_numpy(array1, array2):\n",
        "    return np.dot(array1, array2)\n",
        "\n",
        "# 4. Matrix Multiplication\n",
        "def matrix_multiplication_python(matrix1, matrix2):\n",
        "    result = [[sum(a * b for a, b in zip(row, col)) for col in zip(*matrix2)] for row in matrix1]\n",
        "    return result\n",
        "\n",
        "def matrix_multiplication_numpy(matrix1, matrix2):\n",
        "    return np.dot(matrix1, matrix2)\n",
        "\n",
        "# Initialize data\n",
        "size = 1000000\n",
        "list1 = list(range(size))\n",
        "list2 = list(range(size, 2 * size))\n",
        "array1 = np.arange(size)\n",
        "array2 = np.arange(size, 2 * size)\n",
        "\n",
        "matrix_size = 1000\n",
        "matrix1 = [[i + j for j in range(matrix_size)] for i in range(matrix_size)]\n",
        "matrix2 = [[i - j for j in range(matrix_size)] for i in range(matrix_size)]\n",
        "np_matrix1 = np.array(matrix1)\n",
        "np_matrix2 = np.array(matrix2)\n",
        "\n",
        "# Measure time for each operation\n",
        "print(\"1. Element-wise Addition:\")\n",
        "time_python_add = measure_time(elementwise_addition_python, list1, list2)\n",
        "time_numpy_add = measure_time(elementwise_addition_numpy, array1, array2)\n",
        "print(f\"Python Lists: {time_python_add:.6f} seconds\")\n",
        "print(f\"NumPy Arrays: {time_numpy_add:.6f} seconds\")\n",
        "\n",
        "print(\"\\n2. Element-wise Multiplication:\")\n",
        "time_python_mul = measure_time(elementwise_multiplication_python, list1, list2)\n",
        "time_numpy_mul = measure_time(elementwise_multiplication_numpy, array1, array2)\n",
        "print(f\"Python Lists: {time_python_mul:.6f} seconds\")\n",
        "print(f\"NumPy Arrays: {time_numpy_mul:.6f} seconds\")\n",
        "\n",
        "print(\"\\n3. Dot Product:\")\n",
        "time_python_dot = measure_time(dot_product_python, list1, list2)\n",
        "time_numpy_dot = measure_time(dot_product_numpy, array1, array2)\n",
        "print(f\"Python Lists: {time_python_dot:.6f} seconds\")\n",
        "print(f\"NumPy Arrays: {time_numpy_dot:.6f} seconds\")\n",
        "\n",
        "print(\"\\n4. Matrix Multiplication:\")\n",
        "time_python_matmul = measure_time(matrix_multiplication_python, matrix1, matrix2)\n",
        "time_numpy_matmul = measure_time(matrix_multiplication_numpy, np_matrix1, np_matrix2)\n",
        "print(f\"Python Lists: {time_python_matmul:.6f} seconds\")\n",
        "print(f\"NumPy Arrays: {time_numpy_matmul:.6f} seconds\")"
      ],
      "metadata": {
        "colab": {
          "base_uri": "https://localhost:8080/"
        },
        "id": "vQXBJN236Jm5",
        "outputId": "d87c58c4-995f-4304-de24-e92c9305b89a"
      },
      "execution_count": 22,
      "outputs": [
        {
          "output_type": "stream",
          "name": "stdout",
          "text": [
            "1. Element-wise Addition:\n",
            "Python Lists: 0.125881 seconds\n",
            "NumPy Arrays: 0.009413 seconds\n",
            "\n",
            "2. Element-wise Multiplication:\n",
            "Python Lists: 0.113497 seconds\n",
            "NumPy Arrays: 0.003071 seconds\n",
            "\n",
            "3. Dot Product:\n",
            "Python Lists: 0.115335 seconds\n",
            "NumPy Arrays: 0.001768 seconds\n",
            "\n",
            "4. Matrix Multiplication:\n",
            "Python Lists: 169.133233 seconds\n",
            "NumPy Arrays: 4.223803 seconds\n"
          ]
        }
      ]
    }
  ]
}